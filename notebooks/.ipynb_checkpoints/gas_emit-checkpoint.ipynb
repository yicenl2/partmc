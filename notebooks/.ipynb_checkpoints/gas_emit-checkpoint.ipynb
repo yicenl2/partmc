{
 "cells": [
  {
   "cell_type": "code",
   "execution_count": 1,
   "id": "alternative-eight",
   "metadata": {},
   "outputs": [],
   "source": [
    "import sys, os\n",
    "import matplotlib\n",
    "import scipy.io, numpy\n",
    "import pandas as pd\n",
    "import matplotlib as mpl\n",
    "import matplotlib.pyplot as plt\n",
    "import numpy as np\n",
    "import netCDF4\n",
    "import matplotlib as mpl\n",
    "import seaborn as sns\n",
    "mpl.rcParams['font.size'] = 12\n"
   ]
  },
  {
   "cell_type": "code",
   "execution_count": 6,
   "id": "deadly-stage",
   "metadata": {},
   "outputs": [
    {
     "name": "stdout",
     "output_type": "stream",
     "text": [
      "/data/nriemer/c/yicenl2/git/project/partmc/scenarios/sce_completed/scenarios/scenario_0029\n"
     ]
    }
   ],
   "source": [
    "cd /data/keeling/a/yicenl2/c/git/project/partmc/scenarios/sce_completed/scenarios/scenario_0029\n"
   ]
  },
  {
   "cell_type": "code",
   "execution_count": 7,
   "id": "colored-sheep",
   "metadata": {},
   "outputs": [
    {
     "name": "stdout",
     "output_type": "stream",
     "text": [
      "        #       time       (s) Unnamed: 3 Unnamed: 4    Unnamed: 5  \\\n",
      "0       #       rate         =    scaling  parameter           NaN   \n",
      "1       #  emissions      (mol     m^{-2}    s^{-1})           NaN   \n",
      "2    time          0      3600       7200      10800  1.440000e+04   \n",
      "3    rate        0.5       0.5        0.5        0.5  5.000000e-01   \n",
      "4   #rate        0.8       0.8        0.8        0.8  8.000000e-01   \n",
      "5   #rate          1         1          1          1  1.000000e+00   \n",
      "6     SO2   2.25E-09  2.92E-09   2.71E-09   2.77E-09  2.780000e-09   \n",
      "7     NO2   3.13E-09  3.46E-09   3.17E-09   3.40E-09  3.500000e-09   \n",
      "8      NO   9.63E-08  1.06E-07   9.76E-08   1.05E-07  1.070000e-07   \n",
      "9     NH3   1.11E-09  1.09E-09   2.05E-09   1.83E-09  2.050000e-09   \n",
      "10     CO   3.47E-07  2.58E-07   1.84E-07   1.97E-07  2.060000e-07   \n",
      "11   ALD2   2.51E-09  1.89E-09   1.38E-09   1.51E-09  1.580000e-09   \n",
      "12   HCHO   7.64E-09  6.07E-09   4.59E-09   4.97E-09  5.180000e-09   \n",
      "13    ETH   1.06E-08  7.95E-09   5.77E-09   6.25E-09  6.560000e-09   \n",
      "14   OLEI   5.72E-10  4.40E-10   3.25E-10   3.53E-10  3.710000e-10   \n",
      "15   OLET   4.24E-09  3.26E-09   2.40E-09   2.61E-09  2.740000e-09   \n",
      "16    TOL   6.85E-10  9.78E-10   8.71E-10   9.01E-10  9.210000e-10   \n",
      "17    XYL   6.19E-09  5.27E-09   4.04E-09   4.32E-09  4.490000e-09   \n",
      "18   AONE   1.54E-09  5.62E-09   5.78E-09   5.79E-09  5.800000e-09   \n",
      "19    PAR   9.38E-08  1.07E-07   9.32E-08   9.66E-08  9.920000e-08   \n",
      "20   ISOP   3.95E-10  4.61E-10   5.16E-10   7.14E-10  9.680000e-10   \n",
      "21  CH3OH   4.12E-10  1.06E-09   1.20E-09   1.20E-09  1.200000e-09   \n",
      "22   ANOL   2.03E-10  3.04E-10   2.92E-10   2.92E-10  2.840000e-10   \n",
      "23    DMS   5.33E-11  5.33E-11   5.33E-11   5.33E-11  5.330000e-11   \n",
      "\n",
      "      Unnamed: 6    Unnamed: 7    Unnamed: 8    Unnamed: 9  ...   Unnamed: 63  \\\n",
      "0            NaN           NaN           NaN           NaN  ...           NaN   \n",
      "1            NaN           NaN           NaN           NaN  ...           NaN   \n",
      "2   1.800000e+04  2.160000e+04  2.520000e+04  2.880000e+04  ...  2.268000e+05   \n",
      "3   5.000000e-01  5.000000e-01  5.000000e-01  5.000000e-01  ...  0.000000e+00   \n",
      "4   8.000000e-01  8.000000e-01  8.000000e-01  8.000000e-01  ...  0.000000e+00   \n",
      "5   1.000000e+00  1.000000e+00  1.000000e+00  1.000000e+00  ...  0.000000e+00   \n",
      "6   2.810000e-09  2.790000e-09  2.810000e-09  2.960000e-09  ...  1.880000e-09   \n",
      "7   3.650000e-09  3.530000e-09  3.680000e-09  3.540000e-09  ...  1.860000e-09   \n",
      "8   1.120000e-07  1.080000e-07  1.130000e-07  1.090000e-07  ...  5.730000e-08   \n",
      "9   2.350000e-09  2.060000e-09  2.250000e-09  1.680000e-09  ...  3.400000e-10   \n",
      "10  2.170000e-07  2.060000e-07  2.170000e-07  3.070000e-07  ...  9.500000e-08   \n",
      "11  1.670000e-09  1.570000e-09  1.660000e-09  2.430000e-09  ...  7.360000e-10   \n",
      "12  5.430000e-09  5.160000e-09  5.430000e-09  7.690000e-09  ...  2.360000e-09   \n",
      "13  6.910000e-09  6.520000e-09  6.880000e-09  1.030000e-08  ...  3.090000e-09   \n",
      "14  3.900000e-10  3.700000e-10  3.900000e-10  5.860000e-10  ...  1.660000e-10   \n",
      "15  2.880000e-09  2.740000e-09  2.890000e-09  4.340000e-09  ...  1.230000e-09   \n",
      "16  9.450000e-10  9.230000e-10  9.440000e-10  1.150000e-09  ...  2.260000e-10   \n",
      "17  4.680000e-09  4.490000e-09  4.700000e-09  6.670000e-09  ...  1.820000e-09   \n",
      "18  5.800000e-09  5.790000e-09  5.810000e-09  5.960000e-09  ...  1.260000e-09   \n",
      "19  1.020000e-07  1.000000e-07  1.020000e-07  1.320000e-07  ...  3.800000e-08   \n",
      "20  1.110000e-09  1.080000e-09  9.640000e-10  8.910000e-10  ...  8.520000e-11   \n",
      "21  1.200000e-09  1.200000e-09  1.200000e-09  1.200000e-09  ...  5.070000e-11   \n",
      "22  2.840000e-10  2.840000e-10  2.840000e-10  2.840000e-10  ...  1.090000e-10   \n",
      "23  5.330000e-11  5.330000e-11  5.330000e-11  5.330000e-11  ...  5.330000e-11   \n",
      "\n",
      "     Unnamed: 64   Unnamed: 65   Unnamed: 66   Unnamed: 67   Unnamed: 68  \\\n",
      "0            NaN           NaN           NaN           NaN           NaN   \n",
      "1            NaN           NaN           NaN           NaN           NaN   \n",
      "2   2.304000e+05  2.340000e+05  2.376000e+05  2.412000e+05  2.448000e+05   \n",
      "3   0.000000e+00  0.000000e+00  0.000000e+00  0.000000e+00  0.000000e+00   \n",
      "4   0.000000e+00  0.000000e+00  0.000000e+00  0.000000e+00  0.000000e+00   \n",
      "5   0.000000e+00  0.000000e+00  0.000000e+00  0.000000e+00  0.000000e+00   \n",
      "6   1.830000e-09  1.520000e-09  1.420000e-09  1.400000e-09  1.370000e-09   \n",
      "7   1.590000e-09  9.980000e-10  9.200000e-10  8.260000e-10  6.380000e-10   \n",
      "8   4.900000e-08  3.070000e-08  2.830000e-08  2.540000e-08  1.960000e-08   \n",
      "9   3.420000e-10  1.240000e-10  3.380000e-10  1.230000e-10  1.210000e-10   \n",
      "10  7.350000e-08  3.550000e-08  3.470000e-08  2.840000e-08  1.130000e-08   \n",
      "11  5.650000e-10  2.630000e-10  2.600000e-10  2.110000e-10  7.610000e-11   \n",
      "12  1.840000e-09  8.820000e-10  8.760000e-10  7.220000e-10  3.230000e-10   \n",
      "13  2.350000e-09  1.120000e-09  1.100000e-09  9.000000e-10  3.520000e-10   \n",
      "14  1.290000e-10  6.090000e-11  6.150000e-11  4.930000e-11  2.010000e-11   \n",
      "15  9.530000e-10  4.510000e-10  4.550000e-10  3.650000e-10  1.490000e-10   \n",
      "16  1.770000e-10  1.010000e-10  7.530000e-11  6.060000e-11  2.770000e-11   \n",
      "17  1.440000e-09  7.570000e-10  7.480000e-10  6.010000e-10  2.980000e-10   \n",
      "18  1.230000e-09  1.110000e-09  3.020000e-10  2.950000e-10  2.740000e-10   \n",
      "19  3.190000e-08  2.140000e-08  1.820000e-08  1.620000e-08  1.270000e-08   \n",
      "20  7.370000e-11  5.500000e-11  4.830000e-11  4.470000e-11  3.580000e-11   \n",
      "21  5.010000e-11  4.920000e-11  3.580000e-12  3.580000e-12  3.580000e-12   \n",
      "22  1.090000e-10  4.300000e-11  3.670000e-11  3.670000e-11  3.670000e-11   \n",
      "23  5.330000e-11  5.330000e-11  5.330000e-11  5.330000e-11  5.330000e-11   \n",
      "\n",
      "     Unnamed: 69   Unnamed: 70   Unnamed: 71   Unnamed: 72  \n",
      "0            NaN           NaN           NaN           NaN  \n",
      "1            NaN           NaN           NaN           NaN  \n",
      "2   2.484000e+05  2.520000e+05  2.556000e+05  2.592000e+05  \n",
      "3   0.000000e+00  0.000000e+00  0.000000e+00  0.000000e+00  \n",
      "4   0.000000e+00  0.000000e+00  0.000000e+00  0.000000e+00  \n",
      "5   0.000000e+00  0.000000e+00  0.000000e+00  0.000000e+00  \n",
      "6   1.360000e-09  1.370000e-09  1.440000e-09  1.690000e-09  \n",
      "7   6.140000e-10  6.550000e-10  1.020000e-09  1.970000e-09  \n",
      "8   1.890000e-08  2.010000e-08  3.150000e-08  6.060000e-08  \n",
      "9   1.240000e-10  1.290000e-10  1.350000e-10  3.430000e-10  \n",
      "10  9.090000e-09  1.350000e-08  4.790000e-08  1.740000e-07  \n",
      "11  5.930000e-11  9.340000e-11  3.570000e-10  1.280000e-09  \n",
      "12  2.720000e-10  3.720000e-10  1.170000e-09  3.930000e-09  \n",
      "13  2.840000e-10  4.240000e-10  1.520000e-09  5.410000e-09  \n",
      "14  1.640000e-11  2.390000e-11  8.610000e-11  2.940000e-10  \n",
      "15  1.220000e-10  1.770000e-10  6.370000e-10  2.180000e-09  \n",
      "16  2.370000e-11  3.200000e-11  1.050000e-10  3.530000e-10  \n",
      "17  2.610000e-10  3.380000e-10  9.450000e-10  3.160000e-10  \n",
      "18  2.900000e-10  2.960000e-10  4.440000e-10  8.340000e-10  \n",
      "19  1.220000e-08  1.310000e-08  2.350000e-08  5.300000e-08  \n",
      "20  3.200000e-11  3.100000e-11  4.830000e-11  2.680000e-10  \n",
      "21  4.240000e-12  4.240000e-12  7.020000e-11  2.030000e-10  \n",
      "22  3.690000e-11  3.690000e-11  5.330000e-11  8.640000e-11  \n",
      "23  5.330000e-11  5.330000e-11  5.330000e-11  5.330000e-11  \n",
      "\n",
      "[24 rows x 73 columns]\n"
     ]
    }
   ],
   "source": [
    "df = pd.read_csv(\"gas_emit_3d.csv\")\n",
    "print(df)\n",
    "df.to_csv(\"gas_emit_3d.dat\", sep = \"\\t\", index = False)"
   ]
  },
  {
   "cell_type": "code",
   "execution_count": 8,
   "id": "fluid-attack",
   "metadata": {},
   "outputs": [
    {
     "name": "stdout",
     "output_type": "stream",
     "text": [
      "        #     time     (s)  Unnamed: 3  Unnamed: 4  Unnamed: 5  Unnamed: 6  \\\n",
      "0       #   height     (m)         NaN         NaN         NaN         NaN   \n",
      "1    time        0    3600    7200.000   10800.000   14400.000   18000.000   \n",
      "2  height  171.045  228.21     296.987     366.002     410.868     414.272   \n",
      "\n",
      "   Unnamed: 7  Unnamed: 8  Unnamed: 9  ...  Unnamed: 63  Unnamed: 64  \\\n",
      "0         NaN         NaN         NaN  ...          NaN          NaN   \n",
      "1   21600.000   25200.000   28800.000  ...   226800.000   230400.000   \n",
      "2     417.807     414.138     397.465  ...      305.246      258.497   \n",
      "\n",
      "   Unnamed: 65  Unnamed: 66  Unnamed: 67  Unnamed: 68  Unnamed: 69  \\\n",
      "0          NaN          NaN          NaN          NaN          NaN   \n",
      "1   234000.000   237600.000   241200.000   244800.000   248400.000   \n",
      "2      240.478      187.229      145.851      128.072      110.679   \n",
      "\n",
      "   Unnamed: 70  Unnamed: 71  Unnamed: 72  \n",
      "0          NaN          NaN          NaN  \n",
      "1   252000.000   255600.000   259200.000  \n",
      "2       97.628       93.034       93.034  \n",
      "\n",
      "[3 rows x 73 columns]\n"
     ]
    }
   ],
   "source": [
    "df = pd.read_csv(\"height_3d.csv\")\n",
    "print(df)\n",
    "df.to_csv(\"height_3d.dat\", sep = \"\\t\", index = False)"
   ]
  },
  {
   "cell_type": "code",
   "execution_count": 9,
   "id": "organic-beach",
   "metadata": {},
   "outputs": [
    {
     "name": "stdout",
     "output_type": "stream",
     "text": [
      "      #     time      (s)  Unnamed: 3  Unnamed: 4  Unnamed: 5  Unnamed: 6  \\\n",
      "0     #     temp      (K)         NaN         NaN         NaN         NaN   \n",
      "1  time        0     3600    7200.000   10800.000   14400.000   18000.000   \n",
      "2  temp  283.249  283.249     283.249     283.249     283.249     283.249   \n",
      "\n",
      "   Unnamed: 7  Unnamed: 8  Unnamed: 9  ...  Unnamed: 63  Unnamed: 64  \\\n",
      "0         NaN         NaN         NaN  ...          NaN          NaN   \n",
      "1   21600.000   25200.000   28800.000  ...   226800.000   230400.000   \n",
      "2     283.249     283.249     283.249  ...      283.249      283.249   \n",
      "\n",
      "   Unnamed: 65  Unnamed: 66  Unnamed: 67  Unnamed: 68  Unnamed: 69  \\\n",
      "0          NaN          NaN          NaN          NaN          NaN   \n",
      "1   234000.000   237600.000   241200.000   244800.000   248400.000   \n",
      "2      283.249      283.249      283.249      283.249      283.249   \n",
      "\n",
      "   Unnamed: 70  Unnamed: 71  Unnamed: 72  \n",
      "0          NaN          NaN          NaN  \n",
      "1   252000.000   255600.000   259200.000  \n",
      "2      283.249      283.249      283.249  \n",
      "\n",
      "[3 rows x 73 columns]\n"
     ]
    }
   ],
   "source": [
    "df = pd.read_csv(\"temp_3d.csv\")\n",
    "print(df)\n",
    "df.to_csv(\"temp_3d.dat\", sep = \"\\t\", index = False)"
   ]
  },
  {
   "cell_type": "code",
   "execution_count": null,
   "id": "committed-matter",
   "metadata": {},
   "outputs": [],
   "source": []
  }
 ],
 "metadata": {
  "hide_input": false,
  "kernelspec": {
   "display_name": "Python 3",
   "language": "python",
   "name": "python3"
  },
  "language_info": {
   "codemirror_mode": {
    "name": "ipython",
    "version": 3
   },
   "file_extension": ".py",
   "mimetype": "text/x-python",
   "name": "python",
   "nbconvert_exporter": "python",
   "pygments_lexer": "ipython3",
   "version": "3.8.5"
  },
  "toc": {
   "base_numbering": 1,
   "nav_menu": {},
   "number_sections": true,
   "sideBar": true,
   "skip_h1_title": false,
   "title_cell": "Table of Contents",
   "title_sidebar": "Contents",
   "toc_cell": false,
   "toc_position": {},
   "toc_section_display": true,
   "toc_window_display": false
  },
  "varInspector": {
   "cols": {
    "lenName": 16,
    "lenType": 16,
    "lenVar": 40
   },
   "kernels_config": {
    "python": {
     "delete_cmd_postfix": "",
     "delete_cmd_prefix": "del ",
     "library": "var_list.py",
     "varRefreshCmd": "print(var_dic_list())"
    },
    "r": {
     "delete_cmd_postfix": ") ",
     "delete_cmd_prefix": "rm(",
     "library": "var_list.r",
     "varRefreshCmd": "cat(var_dic_list()) "
    }
   },
   "types_to_exclude": [
    "module",
    "function",
    "builtin_function_or_method",
    "instance",
    "_Feature"
   ],
   "window_display": false
  }
 },
 "nbformat": 4,
 "nbformat_minor": 5
}
