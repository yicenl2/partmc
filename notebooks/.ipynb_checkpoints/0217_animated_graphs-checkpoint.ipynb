{
 "cells": [
  {
   "cell_type": "code",
   "execution_count": 1,
   "id": "appropriate-clinic",
   "metadata": {},
   "outputs": [],
   "source": [
    "import sys, os\n",
    "import scipy.io, numpy\n",
    "# numpy.set_printoptions(threshold=sys.maxsize)\n",
    "import pandas as pd\n",
    "\n",
    "import matplotlib as mpl\n",
    "import matplotlib.pyplot as plt\n",
    "from matplotlib import style\n",
    "plt.style.use('classic')\n",
    "mpl.rc(\"figure\", facecolor=\"white\")\n",
    "\n",
    "import numpy as np\n",
    "import netCDF4\n",
    "import matplotlib as mpl\n",
    "import seaborn as sns\n",
    "import matplotlib.colors as mcolors\n",
    "import warnings \n",
    "warnings.filterwarnings('ignore')\n",
    "\n",
    "import random\n",
    "from itertools import count\n",
    "from IPython.display import display, clear_output\n",
    "from matplotlib.animation import FuncAnimation"
   ]
  },
  {
   "cell_type": "markdown",
   "id": "sublime-annex",
   "metadata": {},
   "source": [
    "# hgamma"
   ]
  },
  {
   "cell_type": "code",
   "execution_count": 2,
   "id": "simplified-sperm",
   "metadata": {},
   "outputs": [],
   "source": [
    "directory = '/data/keeling/a/yicenl2/d/project_n2o5/scenario_libs/nsd_2d_so4/0_hydr_noo/scenarios'\n",
    "h1_nsd = np.zeros((100,49,180)) # gamma * surf_dist\n",
    "h2_nsd = np.zeros((100,49,180)) # surf_area_dist\n",
    "hgamma_nsd = np.zeros((100,49,180))\n",
    "\n",
    "for subdir, dirs, files in os.walk(directory):\n",
    "    for file in files:\n",
    "        filename = subdir + os.sep + file\n",
    "        if ('out/urban_plume_00000' in filename and '.nc' in filename):\n",
    "            t_index = int(filename[-13:-11]) - 1\n",
    "            sce_index = int(filename[-38:-36])\n",
    "            ncf = scipy.io.netcdf_file(filename)\n",
    "            diam = ncf.variables[\"diam\"].data* 1e6 # m to µm\n",
    "            h1_nsd[sce_index, t_index,:] = ncf.variables[\"gamma_surf_pr\"].data*1e6 # m3 to cm-3\n",
    "            h2_nsd[sce_index, t_index,:] = ncf.variables[\"surf_area_dist_pr\"].data*1e6 # m3 to cm-3\n",
    "            hgamma_nsd[sce_index, t_index,:] = h1_nsd[sce_index, t_index,:]/h2_nsd[sce_index, t_index,:]"
   ]
  },
  {
   "cell_type": "code",
   "execution_count": 3,
   "id": "prescribed-lecture",
   "metadata": {},
   "outputs": [],
   "source": [
    "directory = '/data/keeling/a/yicenl2/d/project_n2o5/scenario_libs/wsd_2d_so4/0_hydr_noo/scenarios'\n",
    "h1_wsd = np.zeros((100,49,180)) # gamma * surf_dist\n",
    "h2_wsd = np.zeros((100,49,180)) # surf_area_dist\n",
    "hgamma_wsd = np.zeros((100,49,180))\n",
    "\n",
    "for subdir, dirs, files in os.walk(directory):\n",
    "    for file in files:\n",
    "        filename = subdir + os.sep + file\n",
    "        if ('out/urban_plume_00000' in filename and '.nc' in filename):\n",
    "            t_index = int(filename[-13:-11]) - 1\n",
    "            sce_index = int(filename[-38:-36])\n",
    "            ncf = scipy.io.netcdf_file(filename)\n",
    "            diam = ncf.variables[\"diam\"].data* 1e6 # m to µm\n",
    "            h1_wsd[sce_index, t_index,:] = ncf.variables[\"gamma_surf_pr\"].data*1e6 # m3 to cm-3\n",
    "            h2_wsd[sce_index, t_index,:] = ncf.variables[\"surf_area_dist_pr\"].data*1e6 # m3 to cm-3\n",
    "            hgamma_wsd[sce_index, t_index,:] = h1_wsd[sce_index, t_index,:]/h2_wsd[sce_index, t_index,:]\n",
    "            "
   ]
  },
  {
   "cell_type": "code",
   "execution_count": 8,
   "id": "excellent-affect",
   "metadata": {},
   "outputs": [
    {
     "data": {
      "image/png": "[encoded data removed]",
      "text/plain": [
       "<Figure size 480x320 with 1 Axes>"
      ]
     },
     "metadata": {},
     "output_type": "display_data"
    }
   ],
   "source": [
    "for i in range(49):\n",
    "    plt.figure(figsize=(6,4))\n",
    "\n",
    "    plt.cla()\n",
    "    plt.plot(diam, hgamma_wsd[93, 37,:])\n",
    "    plt.xlim(1e-2,1e3)\n",
    "    plt.xscale('log')\n",
    "    plt.ylim(0,0.025)\n",
    "    plt.xlabel(r'$D_{\\rm dry}$ ($\\mu$m)')\n",
    "    plt.ylabel(r'$\\gamma_{\\rm bin}$')\n",
    "    plt.text(0.015, 0.022, r'sce:%d T:%d h '% (97, i))\n",
    "    plt.grid()\n",
    "    plt.tight_layout(pad=1.0)\n",
    "#     display(fig)\n",
    "\n",
    "    clear_output(wait = True)\n",
    "    plt.pause(0.1)"
   ]
  },
  {
   "cell_type": "code",
   "execution_count": 2,
   "id": "designed-routine",
   "metadata": {},
   "outputs": [
    {
     "name": "stdout",
     "output_type": "stream",
     "text": [
      "0    no3\n",
      "1    so4\n",
      "2     wi\n",
      "3    oin\n",
      "4     na\n",
      "5     cl\n",
      "6     oc\n",
      "7    soa\n",
      "8     bc\n",
      "9    nh4\n",
      "dtype: object\n"
     ]
    }
   ],
   "source": [
    "s = pd.Series(['no3','so4','wi','oin','na','cl','oc','soa','bc','nh4'])\n",
    "print(s)"
   ]
  },
  {
   "cell_type": "code",
   "execution_count": 29,
   "id": "classical-shipping",
   "metadata": {},
   "outputs": [],
   "source": [
    "directory = '/data/keeling/a/yicenl2/d/project_n2o5/scenario_libs/wsd_2d_so4/0_hydr_noo/scenarios/scenario_0035'\n",
    "nmass_frac_dist = np.zeros((10,49,50,180))\n",
    "\n",
    "for subdir, dirs, files in os.walk(directory):\n",
    "    for file in files:\n",
    "        filename = subdir + os.sep + file\n",
    "        if (\"out/urban_plume_00000\" in filename):\n",
    "            nt_index = int(filename[-13:-11]) - 1\n",
    "            nsce_index = int(filename[-38:-36])\n",
    "            ncf  = scipy.io.netcdf_file(filename, mmap=False)\n",
    "            diam_edges = ncf.variables[\"diam_edges\"].data *1e6\n",
    "            bc_edges = ncf.variables[\"bc_frac_edges\"].data\n",
    "            for i in range(10):\n",
    "                nmass_frac_dist[i, nt_index,:,:] = ncf.variables[\"diam_\" + s[i] + \"_dist_pr\"].data * 1e-6"
   ]
  },
  {
   "cell_type": "code",
   "execution_count": 30,
   "id": "earlier-chart",
   "metadata": {
    "scrolled": false
   },
   "outputs": [
    {
     "data": {
      "image/png": "[encoded data removed]",
      "text/plain": [
       "<Figure size 480x320 with 1 Axes>"
      ]
     },
     "metadata": {},
     "output_type": "display_data"
    }
   ],
   "source": [
    "X, Y = np.meshgrid(diam_edges, bc_edges)\n",
    "\n",
    "for i in range(49):\n",
    "    plt.figure(figsize=(6,4))\n",
    "\n",
    "    plt.cla()\n",
    "    plt.pcolormesh (X, Y, nmass_frac_dist[0,i,:,:], \n",
    "                    norm = mpl.colors.LogNorm(vmin=1e0, vmax=1e2), linewidths = 0.1)\n",
    "    plt.xlim(1e-2,1e3)\n",
    "    plt.xscale('log')\n",
    "    plt.ylim(0,1)\n",
    "    plt.text(50, 0.85, r'sce:%d T:%d h '% (35, i))\n",
    "    plt.grid()\n",
    "    plt.tight_layout(pad=1.0)\n",
    "    plt.xlabel(r'$D_{\\rm dry}$ ($\\mu$m)')\n",
    "    plt.ylabel(\"mass_frac_\" + s[0] + \"_wsd\")\n",
    "#     display(fig)\n",
    "\n",
    "    clear_output(wait = True)\n",
    "    plt.pause(1e-10)"
   ]
  }
 ],
 "metadata": {
  "hide_input": false,
  "kernelspec": {
   "display_name": "Python 3",
   "language": "python",
   "name": "python3"
  },
  "language_info": {
   "codemirror_mode": {
    "name": "ipython",
    "version": 3
   },
   "file_extension": ".py",
   "mimetype": "text/x-python",
   "name": "python",
   "nbconvert_exporter": "python",
   "pygments_lexer": "ipython3",
   "version": "3.8.5"
  },
  "toc": {
   "base_numbering": 1,
   "nav_menu": {},
   "number_sections": true,
   "sideBar": true,
   "skip_h1_title": false,
   "title_cell": "Table of Contents",
   "title_sidebar": "Contents",
   "toc_cell": false,
   "toc_position": {},
   "toc_section_display": true,
   "toc_window_display": false
  },
  "varInspector": {
   "cols": {
    "lenName": 16,
    "lenType": 16,
    "lenVar": 40
   },
   "kernels_config": {
    "python": {
     "delete_cmd_postfix": "",
     "delete_cmd_prefix": "del ",
     "library": "var_list.py",
     "varRefreshCmd": "print(var_dic_list())"
    },
    "r": {
     "delete_cmd_postfix": ") ",
     "delete_cmd_prefix": "rm(",
     "library": "var_list.r",
     "varRefreshCmd": "cat(var_dic_list()) "
    }
   },
   "types_to_exclude": [
    "module",
    "function",
    "builtin_function_or_method",
    "instance",
    "_Feature"
   ],
   "window_display": false
  }
 },
 "nbformat": 4,
 "nbformat_minor": 5
}
